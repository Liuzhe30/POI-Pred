{
 "cells": [
  {
   "cell_type": "markdown",
   "metadata": {},
   "source": [
    "### Test the effect of six clinical indicators on POI prediction problems using machine learning"
   ]
  },
  {
   "cell_type": "code",
   "execution_count": 1,
   "metadata": {},
   "outputs": [],
   "source": [
    "import os\n",
    "import pandas as pd\n",
    "import numpy as np"
   ]
  },
  {
   "cell_type": "markdown",
   "metadata": {},
   "source": [
    "#### 1 data preprocessing"
   ]
  },
  {
   "cell_type": "code",
   "execution_count": 2,
   "metadata": {},
   "outputs": [],
   "source": [
    "# load datasets\n",
    "case_cohort = pd.read_csv('../datasets/6-feature/POI-case_participant.csv')\n",
    "control_cohort = pd.read_csv('../datasets/6-feature/POI-control_participant.csv')"
   ]
  },
  {
   "cell_type": "code",
   "execution_count": 3,
   "metadata": {},
   "outputs": [
    {
     "data": {
      "text/html": [
       "<div>\n",
       "<style scoped>\n",
       "    .dataframe tbody tr th:only-of-type {\n",
       "        vertical-align: middle;\n",
       "    }\n",
       "\n",
       "    .dataframe tbody tr th {\n",
       "        vertical-align: top;\n",
       "    }\n",
       "\n",
       "    .dataframe thead th {\n",
       "        text-align: right;\n",
       "    }\n",
       "</style>\n",
       "<table border=\"1\" class=\"dataframe\">\n",
       "  <thead>\n",
       "    <tr style=\"text-align: right;\">\n",
       "      <th></th>\n",
       "      <th>eid</th>\n",
       "      <th>sleep duration</th>\n",
       "      <th>sleeplessness</th>\n",
       "      <th>BMI</th>\n",
       "      <th>smoking status</th>\n",
       "      <th>T2D</th>\n",
       "      <th>coffee intake</th>\n",
       "    </tr>\n",
       "  </thead>\n",
       "  <tbody>\n",
       "    <tr>\n",
       "      <th>0</th>\n",
       "      <td>1004331</td>\n",
       "      <td>9</td>\n",
       "      <td>Usually</td>\n",
       "      <td>18.2098</td>\n",
       "      <td>Previous</td>\n",
       "      <td>NaN</td>\n",
       "      <td>1</td>\n",
       "    </tr>\n",
       "    <tr>\n",
       "      <th>1</th>\n",
       "      <td>1005087</td>\n",
       "      <td>7</td>\n",
       "      <td>Never/rarely</td>\n",
       "      <td>31.2883</td>\n",
       "      <td>Previous</td>\n",
       "      <td>NaN</td>\n",
       "      <td>4</td>\n",
       "    </tr>\n",
       "    <tr>\n",
       "      <th>2</th>\n",
       "      <td>1007659</td>\n",
       "      <td>5</td>\n",
       "      <td>Usually</td>\n",
       "      <td>31.8405</td>\n",
       "      <td>Previous</td>\n",
       "      <td>-0.395678</td>\n",
       "      <td>0</td>\n",
       "    </tr>\n",
       "    <tr>\n",
       "      <th>3</th>\n",
       "      <td>1014838</td>\n",
       "      <td>7</td>\n",
       "      <td>Sometimes</td>\n",
       "      <td>24.3080</td>\n",
       "      <td>Never</td>\n",
       "      <td>NaN</td>\n",
       "      <td>1</td>\n",
       "    </tr>\n",
       "    <tr>\n",
       "      <th>4</th>\n",
       "      <td>1019851</td>\n",
       "      <td>9</td>\n",
       "      <td>Never/rarely</td>\n",
       "      <td>25.1797</td>\n",
       "      <td>Never</td>\n",
       "      <td>0.442098</td>\n",
       "      <td>5</td>\n",
       "    </tr>\n",
       "    <tr>\n",
       "      <th>...</th>\n",
       "      <td>...</td>\n",
       "      <td>...</td>\n",
       "      <td>...</td>\n",
       "      <td>...</td>\n",
       "      <td>...</td>\n",
       "      <td>...</td>\n",
       "      <td>...</td>\n",
       "    </tr>\n",
       "    <tr>\n",
       "      <th>10620</th>\n",
       "      <td>6007774</td>\n",
       "      <td>9</td>\n",
       "      <td>Sometimes</td>\n",
       "      <td>33.7012</td>\n",
       "      <td>Never</td>\n",
       "      <td>-0.178532</td>\n",
       "      <td>5</td>\n",
       "    </tr>\n",
       "    <tr>\n",
       "      <th>10621</th>\n",
       "      <td>6009046</td>\n",
       "      <td>8</td>\n",
       "      <td>Sometimes</td>\n",
       "      <td>24.6152</td>\n",
       "      <td>Previous</td>\n",
       "      <td>NaN</td>\n",
       "      <td>Less than one</td>\n",
       "    </tr>\n",
       "    <tr>\n",
       "      <th>10622</th>\n",
       "      <td>6009842</td>\n",
       "      <td>9</td>\n",
       "      <td>Usually</td>\n",
       "      <td>27.7651</td>\n",
       "      <td>Never</td>\n",
       "      <td>-0.643006</td>\n",
       "      <td>3</td>\n",
       "    </tr>\n",
       "    <tr>\n",
       "      <th>10623</th>\n",
       "      <td>6010824</td>\n",
       "      <td>8</td>\n",
       "      <td>Sometimes</td>\n",
       "      <td>24.7789</td>\n",
       "      <td>Never</td>\n",
       "      <td>NaN</td>\n",
       "      <td>0</td>\n",
       "    </tr>\n",
       "    <tr>\n",
       "      <th>10624</th>\n",
       "      <td>6021944</td>\n",
       "      <td>8</td>\n",
       "      <td>Sometimes</td>\n",
       "      <td>31.2146</td>\n",
       "      <td>Previous</td>\n",
       "      <td>NaN</td>\n",
       "      <td>0</td>\n",
       "    </tr>\n",
       "  </tbody>\n",
       "</table>\n",
       "<p>10625 rows × 7 columns</p>\n",
       "</div>"
      ],
      "text/plain": [
       "           eid sleep duration sleeplessness      BMI smoking status       T2D  \\\n",
       "0      1004331              9       Usually  18.2098       Previous       NaN   \n",
       "1      1005087              7  Never/rarely  31.2883       Previous       NaN   \n",
       "2      1007659              5       Usually  31.8405       Previous -0.395678   \n",
       "3      1014838              7     Sometimes  24.3080          Never       NaN   \n",
       "4      1019851              9  Never/rarely  25.1797          Never  0.442098   \n",
       "...        ...            ...           ...      ...            ...       ...   \n",
       "10620  6007774              9     Sometimes  33.7012          Never -0.178532   \n",
       "10621  6009046              8     Sometimes  24.6152       Previous       NaN   \n",
       "10622  6009842              9       Usually  27.7651          Never -0.643006   \n",
       "10623  6010824              8     Sometimes  24.7789          Never       NaN   \n",
       "10624  6021944              8     Sometimes  31.2146       Previous       NaN   \n",
       "\n",
       "       coffee intake  \n",
       "0                  1  \n",
       "1                  4  \n",
       "2                  0  \n",
       "3                  1  \n",
       "4                  5  \n",
       "...              ...  \n",
       "10620              5  \n",
       "10621  Less than one  \n",
       "10622              3  \n",
       "10623              0  \n",
       "10624              0  \n",
       "\n",
       "[10625 rows x 7 columns]"
      ]
     },
     "execution_count": 3,
     "metadata": {},
     "output_type": "execute_result"
    }
   ],
   "source": [
    "case_cohort"
   ]
  },
  {
   "cell_type": "code",
   "execution_count": 4,
   "metadata": {},
   "outputs": [
    {
     "data": {
      "text/plain": [
       "eid                  0\n",
       "sleep duration       0\n",
       "sleeplessness        0\n",
       "BMI                 73\n",
       "smoking status       0\n",
       "T2D               8470\n",
       "coffee intake        0\n",
       "dtype: int64"
      ]
     },
     "execution_count": 4,
     "metadata": {},
     "output_type": "execute_result"
    }
   ],
   "source": [
    "case_cohort.isna().sum()"
   ]
  },
  {
   "cell_type": "code",
   "execution_count": 5,
   "metadata": {},
   "outputs": [
    {
     "data": {
      "text/html": [
       "<div>\n",
       "<style scoped>\n",
       "    .dataframe tbody tr th:only-of-type {\n",
       "        vertical-align: middle;\n",
       "    }\n",
       "\n",
       "    .dataframe tbody tr th {\n",
       "        vertical-align: top;\n",
       "    }\n",
       "\n",
       "    .dataframe thead th {\n",
       "        text-align: right;\n",
       "    }\n",
       "</style>\n",
       "<table border=\"1\" class=\"dataframe\">\n",
       "  <thead>\n",
       "    <tr style=\"text-align: right;\">\n",
       "      <th></th>\n",
       "      <th>eid</th>\n",
       "      <th>sleep duration</th>\n",
       "      <th>sleeplessness</th>\n",
       "      <th>BMI</th>\n",
       "      <th>smoking status</th>\n",
       "      <th>T2D</th>\n",
       "      <th>coffee intake</th>\n",
       "    </tr>\n",
       "  </thead>\n",
       "  <tbody>\n",
       "    <tr>\n",
       "      <th>0</th>\n",
       "      <td>1000215</td>\n",
       "      <td>6</td>\n",
       "      <td>Never/rarely</td>\n",
       "      <td>24.6355</td>\n",
       "      <td>Current</td>\n",
       "      <td>-0.537662</td>\n",
       "      <td>2</td>\n",
       "    </tr>\n",
       "    <tr>\n",
       "      <th>1</th>\n",
       "      <td>1000544</td>\n",
       "      <td>7</td>\n",
       "      <td>Never/rarely</td>\n",
       "      <td>21.8195</td>\n",
       "      <td>Never</td>\n",
       "      <td>NaN</td>\n",
       "      <td>0</td>\n",
       "    </tr>\n",
       "    <tr>\n",
       "      <th>2</th>\n",
       "      <td>1000821</td>\n",
       "      <td>5</td>\n",
       "      <td>Usually</td>\n",
       "      <td>26.0156</td>\n",
       "      <td>Current</td>\n",
       "      <td>NaN</td>\n",
       "      <td>2</td>\n",
       "    </tr>\n",
       "    <tr>\n",
       "      <th>3</th>\n",
       "      <td>1001040</td>\n",
       "      <td>7</td>\n",
       "      <td>Usually</td>\n",
       "      <td>21.9854</td>\n",
       "      <td>Never</td>\n",
       "      <td>NaN</td>\n",
       "      <td>0</td>\n",
       "    </tr>\n",
       "    <tr>\n",
       "      <th>4</th>\n",
       "      <td>1001071</td>\n",
       "      <td>7</td>\n",
       "      <td>Sometimes</td>\n",
       "      <td>22.8538</td>\n",
       "      <td>Current</td>\n",
       "      <td>NaN</td>\n",
       "      <td>2</td>\n",
       "    </tr>\n",
       "    <tr>\n",
       "      <th>...</th>\n",
       "      <td>...</td>\n",
       "      <td>...</td>\n",
       "      <td>...</td>\n",
       "      <td>...</td>\n",
       "      <td>...</td>\n",
       "      <td>...</td>\n",
       "      <td>...</td>\n",
       "    </tr>\n",
       "    <tr>\n",
       "      <th>50582</th>\n",
       "      <td>6022151</td>\n",
       "      <td>8</td>\n",
       "      <td>Sometimes</td>\n",
       "      <td>27.7651</td>\n",
       "      <td>Never</td>\n",
       "      <td>-1.360960</td>\n",
       "      <td>0</td>\n",
       "    </tr>\n",
       "    <tr>\n",
       "      <th>50583</th>\n",
       "      <td>6022571</td>\n",
       "      <td>6</td>\n",
       "      <td>Sometimes</td>\n",
       "      <td>25.9651</td>\n",
       "      <td>Previous</td>\n",
       "      <td>NaN</td>\n",
       "      <td>0</td>\n",
       "    </tr>\n",
       "    <tr>\n",
       "      <th>50584</th>\n",
       "      <td>6023181</td>\n",
       "      <td>6</td>\n",
       "      <td>Usually</td>\n",
       "      <td>23.8150</td>\n",
       "      <td>Previous</td>\n",
       "      <td>-1.624070</td>\n",
       "      <td>4</td>\n",
       "    </tr>\n",
       "    <tr>\n",
       "      <th>50585</th>\n",
       "      <td>6023229</td>\n",
       "      <td>Do not know</td>\n",
       "      <td>Usually</td>\n",
       "      <td>27.7441</td>\n",
       "      <td>Current</td>\n",
       "      <td>NaN</td>\n",
       "      <td>1</td>\n",
       "    </tr>\n",
       "    <tr>\n",
       "      <th>50586</th>\n",
       "      <td>6023572</td>\n",
       "      <td>8</td>\n",
       "      <td>Never/rarely</td>\n",
       "      <td>27.2445</td>\n",
       "      <td>Never</td>\n",
       "      <td>NaN</td>\n",
       "      <td>0</td>\n",
       "    </tr>\n",
       "  </tbody>\n",
       "</table>\n",
       "<p>50587 rows × 7 columns</p>\n",
       "</div>"
      ],
      "text/plain": [
       "           eid sleep duration sleeplessness      BMI smoking status       T2D  \\\n",
       "0      1000215              6  Never/rarely  24.6355        Current -0.537662   \n",
       "1      1000544              7  Never/rarely  21.8195          Never       NaN   \n",
       "2      1000821              5       Usually  26.0156        Current       NaN   \n",
       "3      1001040              7       Usually  21.9854          Never       NaN   \n",
       "4      1001071              7     Sometimes  22.8538        Current       NaN   \n",
       "...        ...            ...           ...      ...            ...       ...   \n",
       "50582  6022151              8     Sometimes  27.7651          Never -1.360960   \n",
       "50583  6022571              6     Sometimes  25.9651       Previous       NaN   \n",
       "50584  6023181              6       Usually  23.8150       Previous -1.624070   \n",
       "50585  6023229    Do not know       Usually  27.7441        Current       NaN   \n",
       "50586  6023572              8  Never/rarely  27.2445          Never       NaN   \n",
       "\n",
       "      coffee intake  \n",
       "0                 2  \n",
       "1                 0  \n",
       "2                 2  \n",
       "3                 0  \n",
       "4                 2  \n",
       "...             ...  \n",
       "50582             0  \n",
       "50583             0  \n",
       "50584             4  \n",
       "50585             1  \n",
       "50586             0  \n",
       "\n",
       "[50587 rows x 7 columns]"
      ]
     },
     "execution_count": 5,
     "metadata": {},
     "output_type": "execute_result"
    }
   ],
   "source": [
    "control_cohort"
   ]
  },
  {
   "cell_type": "code",
   "execution_count": 6,
   "metadata": {},
   "outputs": [
    {
     "data": {
      "text/plain": [
       "eid                   0\n",
       "sleep duration        2\n",
       "sleeplessness         2\n",
       "BMI                 245\n",
       "smoking status        2\n",
       "T2D               40208\n",
       "coffee intake         2\n",
       "dtype: int64"
      ]
     },
     "execution_count": 6,
     "metadata": {},
     "output_type": "execute_result"
    }
   ],
   "source": [
    "control_cohort.isna().sum()"
   ]
  },
  {
   "cell_type": "code",
   "execution_count": 7,
   "metadata": {},
   "outputs": [],
   "source": [
    "# Use the mean value of the column 'BMI' to fill in the missing BMI values\n",
    "mean_val = case_cohort['BMI'].mean()\n",
    "case_cohort['BMI'].fillna(mean_val, inplace=True)\n",
    "mean_val = control_cohort['BMI'].mean()\n",
    "control_cohort['BMI'].fillna(mean_val, inplace=True)"
   ]
  },
  {
   "cell_type": "code",
   "execution_count": 8,
   "metadata": {},
   "outputs": [],
   "source": [
    "# Use 'Prefer not to answer' to fill the missing sleep duration, sleeplessness and smoking status values\n",
    "control_cohort['sleep duration'].fillna('Prefer not to answer', inplace=True)\n",
    "control_cohort['sleeplessness'].fillna('Prefer not to answer', inplace=True)\n",
    "control_cohort['smoking status'].fillna('Prefer not to answer', inplace=True)"
   ]
  },
  {
   "cell_type": "code",
   "execution_count": 9,
   "metadata": {},
   "outputs": [],
   "source": [
    "# Use 0s to fill the missing T2D values\n",
    "case_cohort['T2D'].fillna(0, inplace=True)\n",
    "control_cohort['T2D'].fillna(0, inplace=True)"
   ]
  },
  {
   "cell_type": "code",
   "execution_count": 10,
   "metadata": {},
   "outputs": [],
   "source": [
    "# Use 'Do not know' to fill the missing coffee intake values\n",
    "control_cohort['coffee intake'].fillna('Do not know', inplace=True)\n",
    "control_cohort['coffee intake'].fillna('Do not know', inplace=True)"
   ]
  },
  {
   "cell_type": "code",
   "execution_count": 11,
   "metadata": {},
   "outputs": [
    {
     "data": {
      "text/plain": [
       "7                       3367\n",
       "8                       2937\n",
       "6                       2236\n",
       "5                        708\n",
       "9                        695\n",
       "10                       226\n",
       "4                        219\n",
       "Do not know               89\n",
       "12                        52\n",
       "3                         42\n",
       "11                        27\n",
       "2                         12\n",
       "Prefer not to answer       6\n",
       "16                         4\n",
       "14                         3\n",
       "15                         1\n",
       "1                          1\n",
       "Name: sleep duration, dtype: int64"
      ]
     },
     "execution_count": 11,
     "metadata": {},
     "output_type": "execute_result"
    }
   ],
   "source": [
    "# check unique values of sleep duration\n",
    "case_cohort['sleep duration'].value_counts()"
   ]
  },
  {
   "cell_type": "code",
   "execution_count": 12,
   "metadata": {},
   "outputs": [
    {
     "data": {
      "text/plain": [
       "7                       18479\n",
       "8                       14873\n",
       "6                        9689\n",
       "9                        3264\n",
       "5                        2382\n",
       "10                        752\n",
       "4                         486\n",
       "Do not know               308\n",
       "12                        107\n",
       "3                          96\n",
       "11                         78\n",
       "Prefer not to answer       31\n",
       "2                          13\n",
       "14                         10\n",
       "13                          9\n",
       "15                          5\n",
       "1                           3\n",
       "18                          1\n",
       "17                          1\n",
       "Name: sleep duration, dtype: int64"
      ]
     },
     "execution_count": 12,
     "metadata": {},
     "output_type": "execute_result"
    }
   ],
   "source": [
    "control_cohort['sleep duration'].value_counts()"
   ]
  },
  {
   "cell_type": "code",
   "execution_count": 18,
   "metadata": {},
   "outputs": [],
   "source": [
    "# replace sleep duration\n",
    "case_cohort.loc[case_cohort['sleep duration'] == 'Do not know', 'sleep duration']= '7'\n",
    "control_cohort.loc[control_cohort['sleep duration'] == 'Do not know', 'sleep duration'] = '7'\n",
    "case_cohort.loc[case_cohort['sleep duration'] == 'Prefer not to answer', 'sleep duration'] = '7'\n",
    "control_cohort.loc[control_cohort['sleep duration'] == 'Prefer not to answer', 'sleep duration'] = '7'"
   ]
  },
  {
   "cell_type": "code",
   "execution_count": 19,
   "metadata": {},
   "outputs": [
    {
     "data": {
      "text/plain": [
       "7     3462\n",
       "8     2937\n",
       "6     2236\n",
       "5      708\n",
       "9      695\n",
       "10     226\n",
       "4      219\n",
       "12      52\n",
       "3       42\n",
       "11      27\n",
       "2       12\n",
       "16       4\n",
       "14       3\n",
       "15       1\n",
       "1        1\n",
       "Name: sleep duration, dtype: int64"
      ]
     },
     "execution_count": 19,
     "metadata": {},
     "output_type": "execute_result"
    }
   ],
   "source": [
    "# after replace\n",
    "case_cohort['sleep duration'].value_counts()"
   ]
  },
  {
   "cell_type": "code",
   "execution_count": 20,
   "metadata": {},
   "outputs": [
    {
     "data": {
      "text/plain": [
       "7     18818\n",
       "8     14873\n",
       "6      9689\n",
       "9      3264\n",
       "5      2382\n",
       "10      752\n",
       "4       486\n",
       "12      107\n",
       "3        96\n",
       "11       78\n",
       "2        13\n",
       "14       10\n",
       "13        9\n",
       "15        5\n",
       "1         3\n",
       "18        1\n",
       "17        1\n",
       "Name: sleep duration, dtype: int64"
      ]
     },
     "execution_count": 20,
     "metadata": {},
     "output_type": "execute_result"
    }
   ],
   "source": [
    "# after replace\n",
    "control_cohort['sleep duration'].value_counts()"
   ]
  },
  {
   "cell_type": "code",
   "execution_count": 21,
   "metadata": {},
   "outputs": [
    {
     "data": {
      "text/plain": [
       "Sometimes               4758\n",
       "Usually                 4248\n",
       "Never/rarely            1618\n",
       "Prefer not to answer       1\n",
       "Name: sleeplessness, dtype: int64"
      ]
     },
     "execution_count": 21,
     "metadata": {},
     "output_type": "execute_result"
    }
   ],
   "source": [
    "# check unique values of sleeplessness\t\n",
    "case_cohort['sleeplessness'].value_counts()"
   ]
  },
  {
   "cell_type": "code",
   "execution_count": 22,
   "metadata": {},
   "outputs": [
    {
     "data": {
      "text/plain": [
       "Sometimes               25102\n",
       "Usually                 17401\n",
       "Never/rarely             8043\n",
       "Prefer not to answer       41\n",
       "Name: sleeplessness, dtype: int64"
      ]
     },
     "execution_count": 22,
     "metadata": {},
     "output_type": "execute_result"
    }
   ],
   "source": [
    "# check unique values of sleeplessness\t\n",
    "control_cohort['sleeplessness'].value_counts()"
   ]
  },
  {
   "cell_type": "code",
   "execution_count": 23,
   "metadata": {},
   "outputs": [],
   "source": [
    "# replace sleeplessness\t\n",
    "case_cohort.loc[case_cohort['sleeplessness'] == 'Never/rarely', 'sleeplessness']= '0'\n",
    "case_cohort.loc[case_cohort['sleeplessness'] == 'Sometimes', 'sleeplessness']= '1'\n",
    "case_cohort.loc[case_cohort['sleeplessness'] == 'Usually', 'sleeplessness']= '2'\n",
    "case_cohort.loc[case_cohort['sleeplessness'] == 'Prefer not to answer', 'sleeplessness']= '0'\n",
    "control_cohort.loc[control_cohort['sleeplessness'] == 'Never/rarely', 'sleeplessness'] = '0'\n",
    "control_cohort.loc[control_cohort['sleeplessness'] == 'Sometimes', 'sleeplessness'] = '1'\n",
    "control_cohort.loc[control_cohort['sleeplessness'] == 'Usually', 'sleeplessness'] = '2'\n",
    "control_cohort.loc[control_cohort['sleeplessness'] == 'Prefer not to answer', 'sleeplessness'] = '0'"
   ]
  },
  {
   "cell_type": "code",
   "execution_count": 24,
   "metadata": {},
   "outputs": [
    {
     "data": {
      "text/plain": [
       "1    4758\n",
       "2    4248\n",
       "0    1619\n",
       "Name: sleeplessness, dtype: int64"
      ]
     },
     "execution_count": 24,
     "metadata": {},
     "output_type": "execute_result"
    }
   ],
   "source": [
    "# after replace\n",
    "case_cohort['sleeplessness'].value_counts()"
   ]
  },
  {
   "cell_type": "code",
   "execution_count": 25,
   "metadata": {},
   "outputs": [
    {
     "data": {
      "text/plain": [
       "1    25102\n",
       "2    17401\n",
       "0     8084\n",
       "Name: sleeplessness, dtype: int64"
      ]
     },
     "execution_count": 25,
     "metadata": {},
     "output_type": "execute_result"
    }
   ],
   "source": [
    "# after replace\n",
    "control_cohort['sleeplessness'].value_counts()"
   ]
  },
  {
   "cell_type": "code",
   "execution_count": 26,
   "metadata": {},
   "outputs": [
    {
     "data": {
      "text/plain": [
       "Never                   5413\n",
       "Previous                3697\n",
       "Current                 1459\n",
       "Prefer not to answer      56\n",
       "Name: smoking status, dtype: int64"
      ]
     },
     "execution_count": 26,
     "metadata": {},
     "output_type": "execute_result"
    }
   ],
   "source": [
    "# check unique values of smoking status\t\n",
    "case_cohort['smoking status'].value_counts()"
   ]
  },
  {
   "cell_type": "code",
   "execution_count": 27,
   "metadata": {},
   "outputs": [
    {
     "data": {
      "text/plain": [
       "Never                   28690\n",
       "Previous                17133\n",
       "Current                  4564\n",
       "Prefer not to answer      200\n",
       "Name: smoking status, dtype: int64"
      ]
     },
     "execution_count": 27,
     "metadata": {},
     "output_type": "execute_result"
    }
   ],
   "source": [
    "# check unique values of smoking status\t\n",
    "control_cohort['smoking status'].value_counts()"
   ]
  },
  {
   "cell_type": "code",
   "execution_count": 28,
   "metadata": {},
   "outputs": [],
   "source": [
    "# replace smoking status\n",
    "case_cohort.loc[case_cohort['smoking status'] == 'Never', 'smoking status']= '0'\n",
    "case_cohort.loc[case_cohort['smoking status'] == 'Previous', 'smoking status']= '1'\n",
    "case_cohort.loc[case_cohort['smoking status'] == 'Current', 'smoking status']= '2'\n",
    "case_cohort.loc[case_cohort['smoking status'] == 'Prefer not to answer', 'smoking status']= '0'\n",
    "control_cohort.loc[control_cohort['smoking status'] == 'Never', 'smoking status'] = '0'\n",
    "control_cohort.loc[control_cohort['smoking status'] == 'Previous', 'smoking status'] = '1'\n",
    "control_cohort.loc[control_cohort['smoking status'] == 'Current', 'smoking status'] = '2'\n",
    "control_cohort.loc[control_cohort['smoking status'] == 'Prefer not to answer', 'smoking status'] = '0'"
   ]
  },
  {
   "cell_type": "code",
   "execution_count": 29,
   "metadata": {},
   "outputs": [
    {
     "data": {
      "text/plain": [
       "0    5469\n",
       "1    3697\n",
       "2    1459\n",
       "Name: smoking status, dtype: int64"
      ]
     },
     "execution_count": 29,
     "metadata": {},
     "output_type": "execute_result"
    }
   ],
   "source": [
    "# after replace\n",
    "case_cohort['smoking status'].value_counts()"
   ]
  },
  {
   "cell_type": "code",
   "execution_count": 30,
   "metadata": {},
   "outputs": [
    {
     "data": {
      "text/plain": [
       "0    28890\n",
       "1    17133\n",
       "2     4564\n",
       "Name: smoking status, dtype: int64"
      ]
     },
     "execution_count": 30,
     "metadata": {},
     "output_type": "execute_result"
    }
   ],
   "source": [
    "# after replace\n",
    "control_cohort['smoking status'].value_counts()"
   ]
  },
  {
   "cell_type": "code",
   "execution_count": 31,
   "metadata": {},
   "outputs": [
    {
     "data": {
      "text/plain": [
       "0                       2803\n",
       "1                       2128\n",
       "2                       1808\n",
       "3                       1130\n",
       "4                        851\n",
       "Less than one            615\n",
       "5                        535\n",
       "6                        375\n",
       "7                        113\n",
       "8                        104\n",
       "10                        84\n",
       "9                         18\n",
       "Do not know               17\n",
       "12                        13\n",
       "Prefer not to answer       7\n",
       "14                         6\n",
       "20                         6\n",
       "15                         5\n",
       "21                         2\n",
       "30                         1\n",
       "18                         1\n",
       "40                         1\n",
       "16                         1\n",
       "13                         1\n",
       "Name: coffee intake, dtype: int64"
      ]
     },
     "execution_count": 31,
     "metadata": {},
     "output_type": "execute_result"
    }
   ],
   "source": [
    "# check unique values of smoking status\t\n",
    "case_cohort['coffee intake'].value_counts()"
   ]
  },
  {
   "cell_type": "code",
   "execution_count": 32,
   "metadata": {},
   "outputs": [
    {
     "data": {
      "text/plain": [
       "0                       11437\n",
       "1                       10881\n",
       "2                        9682\n",
       "3                        6024\n",
       "4                        3999\n",
       "Less than one            3567\n",
       "5                        2289\n",
       "6                        1431\n",
       "7                         415\n",
       "8                         402\n",
       "10                        211\n",
       "Do not know                67\n",
       "9                          66\n",
       "12                         42\n",
       "Prefer not to answer       26\n",
       "14                         11\n",
       "20                         10\n",
       "15                          8\n",
       "11                          4\n",
       "21                          3\n",
       "16                          3\n",
       "30                          2\n",
       "28                          2\n",
       "25                          1\n",
       "50                          1\n",
       "22                          1\n",
       "40                          1\n",
       "18                          1\n",
       "Name: coffee intake, dtype: int64"
      ]
     },
     "execution_count": 32,
     "metadata": {},
     "output_type": "execute_result"
    }
   ],
   "source": [
    "# check unique values of smoking status\t\n",
    "control_cohort['coffee intake'].value_counts()"
   ]
  },
  {
   "cell_type": "code",
   "execution_count": 33,
   "metadata": {},
   "outputs": [],
   "source": [
    "# replace coffee intake\n",
    "case_cohort.loc[case_cohort['coffee intake'] == 'Less than one', 'coffee intake']= '0'\n",
    "case_cohort.loc[case_cohort['coffee intake'] == 'Do not know', 'coffee intake']= '0'\n",
    "case_cohort.loc[case_cohort['coffee intake'] == 'Prefer not to answer', 'coffee intake']= '0'\n",
    "control_cohort.loc[control_cohort['coffee intake'] == 'Less than one', 'coffee intake'] = '0'\n",
    "control_cohort.loc[control_cohort['coffee intake'] == 'Do not know', 'coffee intake'] = '0'\n",
    "control_cohort.loc[control_cohort['coffee intake'] == 'Prefer not to answer', 'coffee intake'] = '0'"
   ]
  },
  {
   "cell_type": "code",
   "execution_count": 34,
   "metadata": {},
   "outputs": [
    {
     "data": {
      "text/plain": [
       "0     3442\n",
       "1     2128\n",
       "2     1808\n",
       "3     1130\n",
       "4      851\n",
       "5      535\n",
       "6      375\n",
       "7      113\n",
       "8      104\n",
       "10      84\n",
       "9       18\n",
       "12      13\n",
       "14       6\n",
       "20       6\n",
       "15       5\n",
       "21       2\n",
       "30       1\n",
       "18       1\n",
       "40       1\n",
       "16       1\n",
       "13       1\n",
       "Name: coffee intake, dtype: int64"
      ]
     },
     "execution_count": 34,
     "metadata": {},
     "output_type": "execute_result"
    }
   ],
   "source": [
    "# after replace\n",
    "case_cohort['coffee intake'].value_counts()"
   ]
  },
  {
   "cell_type": "code",
   "execution_count": 35,
   "metadata": {},
   "outputs": [
    {
     "data": {
      "text/plain": [
       "0     15097\n",
       "1     10881\n",
       "2      9682\n",
       "3      6024\n",
       "4      3999\n",
       "5      2289\n",
       "6      1431\n",
       "7       415\n",
       "8       402\n",
       "10      211\n",
       "9        66\n",
       "12       42\n",
       "14       11\n",
       "20       10\n",
       "15        8\n",
       "11        4\n",
       "21        3\n",
       "16        3\n",
       "30        2\n",
       "28        2\n",
       "25        1\n",
       "50        1\n",
       "22        1\n",
       "40        1\n",
       "18        1\n",
       "Name: coffee intake, dtype: int64"
      ]
     },
     "execution_count": 35,
     "metadata": {},
     "output_type": "execute_result"
    }
   ],
   "source": [
    "# after replace\n",
    "control_cohort['coffee intake'].value_counts()"
   ]
  },
  {
   "cell_type": "code",
   "execution_count": 36,
   "metadata": {},
   "outputs": [
    {
     "data": {
      "text/html": [
       "<div>\n",
       "<style scoped>\n",
       "    .dataframe tbody tr th:only-of-type {\n",
       "        vertical-align: middle;\n",
       "    }\n",
       "\n",
       "    .dataframe tbody tr th {\n",
       "        vertical-align: top;\n",
       "    }\n",
       "\n",
       "    .dataframe thead th {\n",
       "        text-align: right;\n",
       "    }\n",
       "</style>\n",
       "<table border=\"1\" class=\"dataframe\">\n",
       "  <thead>\n",
       "    <tr style=\"text-align: right;\">\n",
       "      <th></th>\n",
       "      <th>eid</th>\n",
       "      <th>sleep duration</th>\n",
       "      <th>sleeplessness</th>\n",
       "      <th>BMI</th>\n",
       "      <th>smoking status</th>\n",
       "      <th>T2D</th>\n",
       "      <th>coffee intake</th>\n",
       "    </tr>\n",
       "  </thead>\n",
       "  <tbody>\n",
       "    <tr>\n",
       "      <th>0</th>\n",
       "      <td>1004331</td>\n",
       "      <td>9</td>\n",
       "      <td>2</td>\n",
       "      <td>18.2098</td>\n",
       "      <td>1</td>\n",
       "      <td>0.000000</td>\n",
       "      <td>1</td>\n",
       "    </tr>\n",
       "    <tr>\n",
       "      <th>1</th>\n",
       "      <td>1005087</td>\n",
       "      <td>7</td>\n",
       "      <td>0</td>\n",
       "      <td>31.2883</td>\n",
       "      <td>1</td>\n",
       "      <td>0.000000</td>\n",
       "      <td>4</td>\n",
       "    </tr>\n",
       "    <tr>\n",
       "      <th>2</th>\n",
       "      <td>1007659</td>\n",
       "      <td>5</td>\n",
       "      <td>2</td>\n",
       "      <td>31.8405</td>\n",
       "      <td>1</td>\n",
       "      <td>-0.395678</td>\n",
       "      <td>0</td>\n",
       "    </tr>\n",
       "    <tr>\n",
       "      <th>3</th>\n",
       "      <td>1014838</td>\n",
       "      <td>7</td>\n",
       "      <td>1</td>\n",
       "      <td>24.3080</td>\n",
       "      <td>0</td>\n",
       "      <td>0.000000</td>\n",
       "      <td>1</td>\n",
       "    </tr>\n",
       "    <tr>\n",
       "      <th>4</th>\n",
       "      <td>1019851</td>\n",
       "      <td>9</td>\n",
       "      <td>0</td>\n",
       "      <td>25.1797</td>\n",
       "      <td>0</td>\n",
       "      <td>0.442098</td>\n",
       "      <td>5</td>\n",
       "    </tr>\n",
       "    <tr>\n",
       "      <th>...</th>\n",
       "      <td>...</td>\n",
       "      <td>...</td>\n",
       "      <td>...</td>\n",
       "      <td>...</td>\n",
       "      <td>...</td>\n",
       "      <td>...</td>\n",
       "      <td>...</td>\n",
       "    </tr>\n",
       "    <tr>\n",
       "      <th>10620</th>\n",
       "      <td>6007774</td>\n",
       "      <td>9</td>\n",
       "      <td>1</td>\n",
       "      <td>33.7012</td>\n",
       "      <td>0</td>\n",
       "      <td>-0.178532</td>\n",
       "      <td>5</td>\n",
       "    </tr>\n",
       "    <tr>\n",
       "      <th>10621</th>\n",
       "      <td>6009046</td>\n",
       "      <td>8</td>\n",
       "      <td>1</td>\n",
       "      <td>24.6152</td>\n",
       "      <td>1</td>\n",
       "      <td>0.000000</td>\n",
       "      <td>0</td>\n",
       "    </tr>\n",
       "    <tr>\n",
       "      <th>10622</th>\n",
       "      <td>6009842</td>\n",
       "      <td>9</td>\n",
       "      <td>2</td>\n",
       "      <td>27.7651</td>\n",
       "      <td>0</td>\n",
       "      <td>-0.643006</td>\n",
       "      <td>3</td>\n",
       "    </tr>\n",
       "    <tr>\n",
       "      <th>10623</th>\n",
       "      <td>6010824</td>\n",
       "      <td>8</td>\n",
       "      <td>1</td>\n",
       "      <td>24.7789</td>\n",
       "      <td>0</td>\n",
       "      <td>0.000000</td>\n",
       "      <td>0</td>\n",
       "    </tr>\n",
       "    <tr>\n",
       "      <th>10624</th>\n",
       "      <td>6021944</td>\n",
       "      <td>8</td>\n",
       "      <td>1</td>\n",
       "      <td>31.2146</td>\n",
       "      <td>1</td>\n",
       "      <td>0.000000</td>\n",
       "      <td>0</td>\n",
       "    </tr>\n",
       "  </tbody>\n",
       "</table>\n",
       "<p>10625 rows × 7 columns</p>\n",
       "</div>"
      ],
      "text/plain": [
       "           eid sleep duration sleeplessness      BMI smoking status       T2D  \\\n",
       "0      1004331              9             2  18.2098              1  0.000000   \n",
       "1      1005087              7             0  31.2883              1  0.000000   \n",
       "2      1007659              5             2  31.8405              1 -0.395678   \n",
       "3      1014838              7             1  24.3080              0  0.000000   \n",
       "4      1019851              9             0  25.1797              0  0.442098   \n",
       "...        ...            ...           ...      ...            ...       ...   \n",
       "10620  6007774              9             1  33.7012              0 -0.178532   \n",
       "10621  6009046              8             1  24.6152              1  0.000000   \n",
       "10622  6009842              9             2  27.7651              0 -0.643006   \n",
       "10623  6010824              8             1  24.7789              0  0.000000   \n",
       "10624  6021944              8             1  31.2146              1  0.000000   \n",
       "\n",
       "      coffee intake  \n",
       "0                 1  \n",
       "1                 4  \n",
       "2                 0  \n",
       "3                 1  \n",
       "4                 5  \n",
       "...             ...  \n",
       "10620             5  \n",
       "10621             0  \n",
       "10622             3  \n",
       "10623             0  \n",
       "10624             0  \n",
       "\n",
       "[10625 rows x 7 columns]"
      ]
     },
     "execution_count": 36,
     "metadata": {},
     "output_type": "execute_result"
    }
   ],
   "source": [
    "case_cohort"
   ]
  },
  {
   "cell_type": "code",
   "execution_count": 37,
   "metadata": {},
   "outputs": [
    {
     "data": {
      "text/plain": [
       "eid                 int64\n",
       "sleep duration      int32\n",
       "sleeplessness       int32\n",
       "BMI               float32\n",
       "smoking status      int32\n",
       "T2D               float32\n",
       "coffee intake       int32\n",
       "dtype: object"
      ]
     },
     "execution_count": 37,
     "metadata": {},
     "output_type": "execute_result"
    }
   ],
   "source": [
    "# change data type\n",
    "case_cohort['sleep duration'] = case_cohort['sleep duration'].astype('int')\n",
    "case_cohort['sleeplessness'] = case_cohort['sleeplessness'].astype('int')\n",
    "case_cohort['BMI'] = case_cohort['BMI'].astype('float32')\n",
    "case_cohort['smoking status'] = case_cohort['smoking status'].astype('int')\n",
    "case_cohort['T2D'] = case_cohort['T2D'].astype('float32')\n",
    "case_cohort['coffee intake'] = case_cohort['coffee intake'].astype('int')\n",
    "case_cohort.dtypes"
   ]
  },
  {
   "cell_type": "code",
   "execution_count": 38,
   "metadata": {},
   "outputs": [
    {
     "data": {
      "text/plain": [
       "eid                 int64\n",
       "sleep duration      int32\n",
       "sleeplessness       int32\n",
       "BMI               float32\n",
       "smoking status      int32\n",
       "T2D               float32\n",
       "coffee intake       int32\n",
       "dtype: object"
      ]
     },
     "execution_count": 38,
     "metadata": {},
     "output_type": "execute_result"
    }
   ],
   "source": [
    "control_cohort['sleep duration'] = control_cohort['sleep duration'].astype('int')\n",
    "control_cohort['sleeplessness'] = control_cohort['sleeplessness'].astype('int')\n",
    "control_cohort['BMI'] = control_cohort['BMI'].astype('float32')\n",
    "control_cohort['smoking status'] = control_cohort['smoking status'].astype('int')\n",
    "control_cohort['T2D'] = control_cohort['T2D'].astype('float32')\n",
    "control_cohort['coffee intake'] = control_cohort['coffee intake'].astype('int')\n",
    "control_cohort.dtypes"
   ]
  },
  {
   "cell_type": "code",
   "execution_count": 39,
   "metadata": {},
   "outputs": [],
   "source": [
    "# saved fullfilled files\n",
    "case_cohort.to_csv('../datasets/6-feature/cleaned_case.csv', index=None)\n",
    "control_cohort.to_csv('../datasets/6-feature/cleaned_control.csv', index=None)"
   ]
  },
  {
   "cell_type": "markdown",
   "metadata": {},
   "source": [
    "#### 2 machine learning"
   ]
  },
  {
   "cell_type": "code",
   "execution_count": 40,
   "metadata": {},
   "outputs": [],
   "source": [
    "import pandas as pd\n",
    "import numpy as np\n",
    "from sklearn.utils import shuffle\n",
    "import xgboost as xgb\n",
    "import lightgbm as lgb\n",
    "from sklearn.model_selection import GridSearchCV\n",
    "from tensorflow.keras.utils import to_categorical\n",
    "from sklearn.metrics import confusion_matrix, precision_score, accuracy_score,recall_score, f1_score,roc_auc_score\n",
    "import matplotlib.pyplot as plt\n",
    "%matplotlib inline\n",
    "from sklearn.metrics import roc_curve, auc"
   ]
  },
  {
   "cell_type": "code",
   "execution_count": 41,
   "metadata": {},
   "outputs": [],
   "source": [
    "# load dataframes\n",
    "case_cohort = pd.read_csv('../datasets/6-feature/cleaned_case.csv')\n",
    "control_cohort = pd.read_csv('../datasets/6-feature/cleaned_control.csv')"
   ]
  },
  {
   "cell_type": "code",
   "execution_count": 42,
   "metadata": {},
   "outputs": [
    {
     "data": {
      "text/html": [
       "<div>\n",
       "<style scoped>\n",
       "    .dataframe tbody tr th:only-of-type {\n",
       "        vertical-align: middle;\n",
       "    }\n",
       "\n",
       "    .dataframe tbody tr th {\n",
       "        vertical-align: top;\n",
       "    }\n",
       "\n",
       "    .dataframe thead th {\n",
       "        text-align: right;\n",
       "    }\n",
       "</style>\n",
       "<table border=\"1\" class=\"dataframe\">\n",
       "  <thead>\n",
       "    <tr style=\"text-align: right;\">\n",
       "      <th></th>\n",
       "      <th>eid</th>\n",
       "      <th>sleep duration</th>\n",
       "      <th>sleeplessness</th>\n",
       "      <th>BMI</th>\n",
       "      <th>smoking status</th>\n",
       "      <th>T2D</th>\n",
       "      <th>coffee intake</th>\n",
       "      <th>label</th>\n",
       "    </tr>\n",
       "  </thead>\n",
       "  <tbody>\n",
       "    <tr>\n",
       "      <th>0</th>\n",
       "      <td>1004331</td>\n",
       "      <td>9</td>\n",
       "      <td>2</td>\n",
       "      <td>18.2098</td>\n",
       "      <td>1</td>\n",
       "      <td>0.000000</td>\n",
       "      <td>1</td>\n",
       "      <td>1</td>\n",
       "    </tr>\n",
       "    <tr>\n",
       "      <th>1</th>\n",
       "      <td>1005087</td>\n",
       "      <td>7</td>\n",
       "      <td>0</td>\n",
       "      <td>31.2883</td>\n",
       "      <td>1</td>\n",
       "      <td>0.000000</td>\n",
       "      <td>4</td>\n",
       "      <td>1</td>\n",
       "    </tr>\n",
       "    <tr>\n",
       "      <th>2</th>\n",
       "      <td>1007659</td>\n",
       "      <td>5</td>\n",
       "      <td>2</td>\n",
       "      <td>31.8405</td>\n",
       "      <td>1</td>\n",
       "      <td>-0.395678</td>\n",
       "      <td>0</td>\n",
       "      <td>1</td>\n",
       "    </tr>\n",
       "    <tr>\n",
       "      <th>3</th>\n",
       "      <td>1014838</td>\n",
       "      <td>7</td>\n",
       "      <td>1</td>\n",
       "      <td>24.3080</td>\n",
       "      <td>0</td>\n",
       "      <td>0.000000</td>\n",
       "      <td>1</td>\n",
       "      <td>1</td>\n",
       "    </tr>\n",
       "    <tr>\n",
       "      <th>4</th>\n",
       "      <td>1019851</td>\n",
       "      <td>9</td>\n",
       "      <td>0</td>\n",
       "      <td>25.1797</td>\n",
       "      <td>0</td>\n",
       "      <td>0.442098</td>\n",
       "      <td>5</td>\n",
       "      <td>1</td>\n",
       "    </tr>\n",
       "    <tr>\n",
       "      <th>...</th>\n",
       "      <td>...</td>\n",
       "      <td>...</td>\n",
       "      <td>...</td>\n",
       "      <td>...</td>\n",
       "      <td>...</td>\n",
       "      <td>...</td>\n",
       "      <td>...</td>\n",
       "      <td>...</td>\n",
       "    </tr>\n",
       "    <tr>\n",
       "      <th>50582</th>\n",
       "      <td>6022151</td>\n",
       "      <td>8</td>\n",
       "      <td>1</td>\n",
       "      <td>27.7651</td>\n",
       "      <td>0</td>\n",
       "      <td>-1.360960</td>\n",
       "      <td>0</td>\n",
       "      <td>0</td>\n",
       "    </tr>\n",
       "    <tr>\n",
       "      <th>50583</th>\n",
       "      <td>6022571</td>\n",
       "      <td>6</td>\n",
       "      <td>1</td>\n",
       "      <td>25.9651</td>\n",
       "      <td>1</td>\n",
       "      <td>0.000000</td>\n",
       "      <td>0</td>\n",
       "      <td>0</td>\n",
       "    </tr>\n",
       "    <tr>\n",
       "      <th>50584</th>\n",
       "      <td>6023181</td>\n",
       "      <td>6</td>\n",
       "      <td>2</td>\n",
       "      <td>23.8150</td>\n",
       "      <td>1</td>\n",
       "      <td>-1.624070</td>\n",
       "      <td>4</td>\n",
       "      <td>0</td>\n",
       "    </tr>\n",
       "    <tr>\n",
       "      <th>50585</th>\n",
       "      <td>6023229</td>\n",
       "      <td>7</td>\n",
       "      <td>2</td>\n",
       "      <td>27.7441</td>\n",
       "      <td>2</td>\n",
       "      <td>0.000000</td>\n",
       "      <td>1</td>\n",
       "      <td>0</td>\n",
       "    </tr>\n",
       "    <tr>\n",
       "      <th>50586</th>\n",
       "      <td>6023572</td>\n",
       "      <td>8</td>\n",
       "      <td>0</td>\n",
       "      <td>27.2445</td>\n",
       "      <td>0</td>\n",
       "      <td>0.000000</td>\n",
       "      <td>0</td>\n",
       "      <td>0</td>\n",
       "    </tr>\n",
       "  </tbody>\n",
       "</table>\n",
       "<p>61212 rows × 8 columns</p>\n",
       "</div>"
      ],
      "text/plain": [
       "           eid  sleep duration  sleeplessness      BMI  smoking status  \\\n",
       "0      1004331               9              2  18.2098               1   \n",
       "1      1005087               7              0  31.2883               1   \n",
       "2      1007659               5              2  31.8405               1   \n",
       "3      1014838               7              1  24.3080               0   \n",
       "4      1019851               9              0  25.1797               0   \n",
       "...        ...             ...            ...      ...             ...   \n",
       "50582  6022151               8              1  27.7651               0   \n",
       "50583  6022571               6              1  25.9651               1   \n",
       "50584  6023181               6              2  23.8150               1   \n",
       "50585  6023229               7              2  27.7441               2   \n",
       "50586  6023572               8              0  27.2445               0   \n",
       "\n",
       "            T2D  coffee intake  label  \n",
       "0      0.000000              1      1  \n",
       "1      0.000000              4      1  \n",
       "2     -0.395678              0      1  \n",
       "3      0.000000              1      1  \n",
       "4      0.442098              5      1  \n",
       "...         ...            ...    ...  \n",
       "50582 -1.360960              0      0  \n",
       "50583  0.000000              0      0  \n",
       "50584 -1.624070              4      0  \n",
       "50585  0.000000              1      0  \n",
       "50586  0.000000              0      0  \n",
       "\n",
       "[61212 rows x 8 columns]"
      ]
     },
     "execution_count": 42,
     "metadata": {},
     "output_type": "execute_result"
    }
   ],
   "source": [
    "# add labels and merge\n",
    "case_cohort.insert(case_cohort.shape[1], 'label', 1)\n",
    "control_cohort.insert(control_cohort.shape[1], 'label', 0)\n",
    "merged = pd.concat([case_cohort, control_cohort])\n",
    "merged"
   ]
  },
  {
   "cell_type": "code",
   "execution_count": 65,
   "metadata": {},
   "outputs": [
    {
     "name": "stdout",
     "output_type": "stream",
     "text": [
      "55090\n",
      "6122\n"
     ]
    }
   ],
   "source": [
    "# shuffle and split dataset\n",
    "dropped = merged.drop('eid',axis=1)\n",
    "shuffled = shuffle(dropped)\n",
    "train_data = shuffled[0:int(shuffled.shape[0]*0.9)]\n",
    "test_data = shuffled[int(shuffled.shape[0]*0.9):]\n",
    "print(train_data.shape[0])\n",
    "print(test_data.shape[0])"
   ]
  },
  {
   "cell_type": "code",
   "execution_count": 66,
   "metadata": {},
   "outputs": [],
   "source": [
    "# fetch values\n",
    "nor_feature_train = train_data.drop('label',axis=1)\n",
    "X_train = nor_feature_train.values\n",
    "nor_feature_test = test_data.drop('label',axis=1)\n",
    "X_test = nor_feature_test.values\n",
    "Y_train = train_data['label'].values\n",
    "Y_test = test_data['label'].values"
   ]
  },
  {
   "cell_type": "code",
   "execution_count": 68,
   "metadata": {},
   "outputs": [
    {
     "name": "stdout",
     "output_type": "stream",
     "text": [
      "Fitting 5 folds for each of 10 candidates, totalling 50 fits\n"
     ]
    },
    {
     "data": {
      "text/plain": [
       "{'n_estimators': 1000}"
      ]
     },
     "execution_count": 68,
     "metadata": {},
     "output_type": "execute_result"
    }
   ],
   "source": [
    "# grid search\n",
    "other_params = {'eta': 0.3, 'n_estimators': 500, 'gamma': 0, 'max_depth': 6, 'min_child_weight': 1,\n",
    "                'colsample_bytree': 1, 'colsample_bylevel': 1, 'subsample': 1, 'reg_lambda': 1, 'reg_alpha': 0, 'scale_pos_weight':5,\n",
    "                'seed': 33}\n",
    "\n",
    "cv_params = {'n_estimators': np.linspace(100, 1000, 10, dtype=int)} # 300\n",
    "#cv_params = {'n_estimators': np.linspace(50, 150, 11, dtype=int)} # 50\n",
    "#cv_params = {'max_depth': np.linspace(1, 50, 10, dtype=int)} # 50\n",
    "\n",
    "xgb_model = xgb.XGBClassifier(**other_params)\n",
    "gs = GridSearchCV(xgb_model, cv_params, verbose=2, refit=True, cv=5, n_jobs=-1)\n",
    "gs.fit(X_train, Y_train)\n",
    "gs.best_params_"
   ]
  },
  {
   "cell_type": "code",
   "execution_count": 80,
   "metadata": {},
   "outputs": [],
   "source": [
    "clf_xgb = xgb.XGBClassifier(n_estimators=300, scale_pos_weight=5, max_depth=50)\n",
    "clf_xgb.fit(X_train,Y_train)\n",
    "\n",
    "import pickle\n",
    "with open('../models/6-feature/XGB.pickle', 'wb') as f:\n",
    "    pickle.dump(clf_xgb, f)"
   ]
  },
  {
   "cell_type": "code",
   "execution_count": 89,
   "metadata": {},
   "outputs": [
    {
     "name": "stdout",
     "output_type": "stream",
     "text": [
      "confusion_matrix\n",
      " [[4360  687]\n",
      " [ 920  155]]\n",
      "accuracy:0.7375040836327997\n",
      "precision:0.1840855106888361\n",
      "recall:0.14418604651162792\n",
      "f1-score:0.16171100678142933\n"
     ]
    },
    {
     "data": {
      "image/png": "[encoded data removed]",
      "text/plain": [
       "<Figure size 640x480 with 2 Axes>"
      ]
     },
     "metadata": {},
     "output_type": "display_data"
    }
   ],
   "source": [
    "y_score = clf_xgb.predict(X_test)                                   \n",
    "y_score_pro = clf_xgb.predict_proba(X_test) # (212, 2)\n",
    "y_one_hot = to_categorical(Y_test)\n",
    "y_score_one_hot = to_categorical(y_score)\n",
    "\n",
    "obj1 = confusion_matrix(Y_test, y_score)\n",
    "print('confusion_matrix\\n', obj1)\n",
    "print('accuracy:{}'.format(accuracy_score(Y_test, y_score)))\n",
    "print('precision:{}'.format(precision_score(Y_test, y_score)))\n",
    "print('recall:{}'.format(recall_score(Y_test, y_score)))\n",
    "print('f1-score:{}'.format(f1_score(Y_test, y_score)))\n",
    "\n",
    "import seaborn as sns\n",
    "sns.heatmap(obj1, fmt='d', cmap='GnBu', annot=True)\n",
    "plt.ylabel(\"true label\")\n",
    "plt.xlabel(\"predict label\")\n",
    "plt.show()\n"
   ]
  },
  {
   "cell_type": "code",
   "execution_count": 83,
   "metadata": {},
   "outputs": [
    {
     "name": "stdout",
     "output_type": "stream",
     "text": [
      "AUC :  0.7841542987245832\n"
     ]
    },
    {
     "data": {
      "image/png": "[encoded data removed]",
      "text/plain": [
       "<Figure size 640x480 with 1 Axes>"
      ]
     },
     "metadata": {},
     "output_type": "display_data"
    }
   ],
   "source": [
    "fpr_xgb, tpr_xgb, thresholds = roc_curve(y_one_hot.ravel(),y_score_pro.ravel())   \n",
    "auc_xgb = auc(fpr_xgb, tpr_xgb)\n",
    "print(\"AUC : \", auc_xgb)\n",
    "\n",
    "plt.plot(fpr_xgb, tpr_xgb, linewidth = 2,label='AUC=%.3f' % auc_xgb)\n",
    "plt.plot([0,1],[0,1], 'k--')\n",
    "plt.axis([0,1.1,0,1.1])\n",
    "plt.xlabel('False Postivie Rate')\n",
    "plt.ylabel('True Positive Rate')\n",
    "plt.legend(loc=\"lower right\")\n",
    "plt.show()"
   ]
  },
  {
   "cell_type": "code",
   "execution_count": 90,
   "metadata": {},
   "outputs": [
    {
     "data": {
      "image/png": "[encoded data removed]",
      "text/plain": [
       "<Figure size 600x300 with 1 Axes>"
      ]
     },
     "metadata": {},
     "output_type": "display_data"
    }
   ],
   "source": [
    "from xgboost import plot_importance\n",
    "### plot feature importance\n",
    "fig,ax = plt.subplots(figsize=(6,3))\n",
    "feature_names = ['sleep duration','sleeplessness','BMI', 'smoking status','T2D','coffee intake']\n",
    "clf_xgb.get_booster().feature_names = feature_names\n",
    "plot_importance(clf_xgb,\n",
    "                height=0.5,\n",
    "                ax=ax,\n",
    "                max_num_features=64)\n",
    "plt.show()"
   ]
  },
  {
   "cell_type": "code",
   "execution_count": 98,
   "metadata": {},
   "outputs": [
    {
     "data": {
      "text/plain": [
       "{'max_depth': 2, 'num_leaves': 15, 'scale_pos_weight': 5}"
      ]
     },
     "execution_count": 98,
     "metadata": {},
     "output_type": "execute_result"
    }
   ],
   "source": [
    "# try lightGBM\n",
    "import lightgbm as lgb\n",
    "from sklearn.model_selection import GridSearchCV\n",
    "\n",
    "parameters = {\n",
    "    'max_depth': [2,3,4,5,6],\n",
    "    'num_leaves': [15,20,25],\n",
    "    'scale_pos_weight':[5]\n",
    "}\n",
    "\n",
    "gbm = lgb.LGBMClassifier()\n",
    "gsearch = GridSearchCV(gbm, param_grid=parameters, scoring='roc_auc', cv=3)\n",
    "gsearch.fit(X_train, Y_train)\n",
    "gsearch.best_params_"
   ]
  },
  {
   "cell_type": "code",
   "execution_count": 101,
   "metadata": {},
   "outputs": [],
   "source": [
    "clf_lgb = lgb.LGBMClassifier(max_depth=6, num_leaves=150,scale_pos_weight=5)\n",
    "clf_lgb.fit(X_train,Y_train)\n",
    "\n",
    "import pickle\n",
    "with open('../models/6-feature/LGBM.pickle', 'wb') as f:\n",
    "    pickle.dump(clf_lgb, f)"
   ]
  },
  {
   "cell_type": "code",
   "execution_count": 105,
   "metadata": {},
   "outputs": [
    {
     "name": "stdout",
     "output_type": "stream",
     "text": [
      "confusion_matrix\n",
      " [[2985 2062]\n",
      " [ 494  581]]\n",
      "accuracy:0.5824893825547207\n",
      "precision:0.21982595535376467\n",
      "recall:0.5404651162790698\n",
      "f1-score:0.3125336202259279\n"
     ]
    },
    {
     "data": {
      "image/png": "[encoded data removed]",
      "text/plain": [
       "<Figure size 640x480 with 2 Axes>"
      ]
     },
     "metadata": {},
     "output_type": "display_data"
    }
   ],
   "source": [
    "y_score = clf_lgb.predict(X_test)                                   \n",
    "y_score_pro = clf_lgb.predict_proba(X_test) # (212, 2)\n",
    "y_one_hot = to_categorical(Y_test)\n",
    "y_score_one_hot = to_categorical(y_score)\n",
    "\n",
    "obj1 = confusion_matrix(Y_test, y_score)\n",
    "print('confusion_matrix\\n', obj1)\n",
    "print('accuracy:{}'.format(accuracy_score(Y_test, y_score)))\n",
    "print('precision:{}'.format(precision_score(Y_test, y_score)))\n",
    "print('recall:{}'.format(recall_score(Y_test, y_score)))\n",
    "print('f1-score:{}'.format(f1_score(Y_test, y_score)))\n",
    "\n",
    "import seaborn as sns\n",
    "sns.heatmap(obj1, fmt='d', cmap='GnBu', annot=True)\n",
    "plt.ylabel(\"true label\")\n",
    "plt.xlabel(\"predict label\")\n",
    "plt.show()"
   ]
  },
  {
   "cell_type": "code",
   "execution_count": 106,
   "metadata": {},
   "outputs": [
    {
     "name": "stdout",
     "output_type": "stream",
     "text": [
      "(6122, 2)\n",
      "(6122, 2)\n",
      "AUC :  0.5908799205440589\n"
     ]
    },
    {
     "data": {
      "image/png": "[encoded data removed]",
      "text/plain": [
       "<Figure size 640x480 with 1 Axes>"
      ]
     },
     "metadata": {},
     "output_type": "display_data"
    }
   ],
   "source": [
    "import matplotlib.pyplot as plt\n",
    "%matplotlib inline\n",
    "from sklearn.metrics import roc_curve, auc\n",
    "print(y_one_hot.shape)\n",
    "print(y_score_pro.shape)\n",
    "fpr_lgb, tpr_lgb, thresholds = roc_curve(y_one_hot.ravel(),y_score_pro.ravel())   \n",
    "auc_lgb = auc(fpr_lgb, tpr_lgb)\n",
    "print(\"AUC : \", auc_lgb)\n",
    "\n",
    "plt.plot(fpr_lgb, tpr_lgb, linewidth = 2,label='AUC=%.3f' % auc_lgb)\n",
    "plt.plot([0,1],[0,1], 'k--')\n",
    "plt.axis([0,1.1,0,1.1])\n",
    "plt.xlabel('False Postivie Rate')\n",
    "plt.ylabel('True Positive Rate')\n",
    "plt.legend(loc=\"lower right\")\n",
    "plt.show()"
   ]
  }
 ],
 "metadata": {
  "kernelspec": {
   "display_name": "Python 3.9.12 64-bit",
   "language": "python",
   "name": "python3"
  },
  "language_info": {
   "codemirror_mode": {
    "name": "ipython",
    "version": 3
   },
   "file_extension": ".py",
   "mimetype": "text/x-python",
   "name": "python",
   "nbconvert_exporter": "python",
   "pygments_lexer": "ipython3",
   "version": "3.9.12"
  },
  "orig_nbformat": 4,
  "vscode": {
   "interpreter": {
    "hash": "6fff98fc3b3d81bd655c2cc48858186e4d9e2db7b515bf1c3221888f12a62f87"
   }
  }
 },
 "nbformat": 4,
 "nbformat_minor": 2
}
